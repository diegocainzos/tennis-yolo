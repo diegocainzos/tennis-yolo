{
 "cells": [
  {
   "cell_type": "code",
   "execution_count": null,
   "metadata": {},
   "outputs": [],
   "source": []
  },
  {
   "cell_type": "markdown",
   "metadata": {},
   "source": [
    "# Start code"
   ]
  },
  {
   "cell_type": "code",
   "execution_count": 1,
   "metadata": {},
   "outputs": [],
   "source": [
    "import torch\n",
    "from torch.utils.data import Dataset, DataLoader\n",
    "from torchvision import models, transforms\n",
    "\n",
    "import json\n",
    "import cv2\n",
    "import numpy as np"
   ]
  },
  {
   "cell_type": "code",
   "execution_count": 2,
   "metadata": {},
   "outputs": [],
   "source": [
    "device = torch.device(\"cuda\" if torch.cuda.is_available() else \"cpu\")"
   ]
  },
  {
   "cell_type": "code",
   "execution_count": null,
   "metadata": {},
   "outputs": [],
   "source": []
  },
  {
   "cell_type": "markdown",
   "metadata": {},
   "source": [
    "# Create Torch Dataset"
   ]
  },
  {
   "cell_type": "code",
   "execution_count": 3,
   "metadata": {},
   "outputs": [],
   "source": [
    "class KeypointsDataset(Dataset):\n",
    "    def __init__(self, img_dir, data_file):\n",
    "        self.img_dir = img_dir\n",
    "        with open(data_file, \"r\") as f:\n",
    "            self.data = json.load(f)\n",
    "        \n",
    "        self.transforms = transforms.Compose([\n",
    "            transforms.ToPILImage(),\n",
    "            transforms.Resize((224, 224)),\n",
    "            transforms.ToTensor(),\n",
    "            transforms.Normalize(mean=[0.485, 0.456, 0.406], std=[0.229, 0.224, 0.225])\n",
    "        ])\n",
    "    \n",
    "    def __len__(self):\n",
    "        return len(self.data)\n",
    "    \n",
    "    def __getitem__(self, idx):\n",
    "        item = self.data[idx]\n",
    "        img = cv2.imread(f\"{self.img_dir}/{item['id']}.png\")\n",
    "        h,w = img.shape[:2]\n",
    "\n",
    "        img = cv2.cvtColor(img, cv2.COLOR_BGR2RGB)\n",
    "        img = self.transforms(img)\n",
    "        kps = np.array(item['kps']).flatten()\n",
    "        kps = kps.astype(np.float32)\n",
    "\n",
    "        kps[::2] *= 224.0 / w # Adjust x coordinates\n",
    "        kps[1::2] *= 224.0 / h # Adjust y coordinates\n",
    "\n",
    "        return img, kps"
   ]
  },
  {
   "cell_type": "code",
   "execution_count": 4,
   "metadata": {},
   "outputs": [],
   "source": [
    "\n",
    "train_dataset = KeypointsDataset(\"../dataset/data/images\",\"../dataset/data/data_train.json\")\n",
    "val_dataset = KeypointsDataset(\"../dataset/data/images\",\"../dataset/data/data_val.json\")\n",
    "\n",
    "train_loader = DataLoader(train_dataset, batch_size=8, shuffle=True)\n",
    "val_loader = DataLoader(val_dataset, batch_size=8, shuffle=True)\n"
   ]
  },
  {
   "cell_type": "markdown",
   "metadata": {},
   "source": [
    "# Creat model"
   ]
  },
  {
   "cell_type": "code",
   "execution_count": 5,
   "metadata": {},
   "outputs": [
    {
     "name": "stderr",
     "output_type": "stream",
     "text": [
      "d:\\Programar\\tennis-yolo\\.tennis-yolo\\lib\\site-packages\\torchvision\\models\\_utils.py:208: UserWarning: The parameter 'pretrained' is deprecated since 0.13 and may be removed in the future, please use 'weights' instead.\n",
      "  warnings.warn(\n",
      "d:\\Programar\\tennis-yolo\\.tennis-yolo\\lib\\site-packages\\torchvision\\models\\_utils.py:223: UserWarning: Arguments other than a weight enum or `None` for 'weights' are deprecated since 0.13 and may be removed in the future. The current behavior is equivalent to passing `weights=ResNet50_Weights.IMAGENET1K_V1`. You can also use `weights=ResNet50_Weights.DEFAULT` to get the most up-to-date weights.\n",
      "  warnings.warn(msg)\n"
     ]
    }
   ],
   "source": [
    "model = models.resnet50(pretrained=True)\n",
    "model.fc =  torch.nn.Linear(model.fc.in_features, 14*2) # Replaces the last layer"
   ]
  },
  {
   "cell_type": "code",
   "execution_count": 6,
   "metadata": {},
   "outputs": [],
   "source": [
    "model = model.to(device)"
   ]
  },
  {
   "cell_type": "code",
   "execution_count": null,
   "metadata": {},
   "outputs": [],
   "source": []
  },
  {
   "cell_type": "markdown",
   "metadata": {},
   "source": [
    "# Train model"
   ]
  },
  {
   "cell_type": "code",
   "execution_count": 7,
   "metadata": {},
   "outputs": [],
   "source": [
    "criterion = torch.nn.MSELoss()\n",
    "optimizer = torch.optim.Adam(model.parameters(), lr=1e-4)"
   ]
  },
  {
   "cell_type": "code",
   "execution_count": null,
   "metadata": {},
   "outputs": [
    {
     "name": "stdout",
     "output_type": "stream",
     "text": [
      "Epoch 0, iter 0, loss: 14452.7919921875\n",
      "Epoch 0, iter 10, loss: 14215.611328125\n",
      "Epoch 0, iter 20, loss: 13907.859375\n",
      "Epoch 0, iter 30, loss: 14155.5341796875\n",
      "Epoch 0, iter 40, loss: 12804.5439453125\n",
      "Epoch 0, iter 50, loss: 12729.8388671875\n",
      "Epoch 0, iter 60, loss: 12041.5732421875\n",
      "Epoch 0, iter 70, loss: 12200.240234375\n",
      "Epoch 0, iter 80, loss: 11921.5537109375\n",
      "Epoch 0, iter 90, loss: 11380.140625\n",
      "Epoch 0, iter 100, loss: 11205.7314453125\n",
      "Epoch 0, iter 110, loss: 11372.5224609375\n",
      "Epoch 0, iter 120, loss: 10396.810546875\n",
      "Epoch 0, iter 130, loss: 9483.541015625\n",
      "Epoch 0, iter 140, loss: 9946.8251953125\n",
      "Epoch 0, iter 150, loss: 9165.2744140625\n",
      "Epoch 0, iter 160, loss: 8798.0302734375\n",
      "Epoch 0, iter 170, loss: 9025.5927734375\n",
      "Epoch 0, iter 180, loss: 11235.076171875\n",
      "Epoch 0, iter 190, loss: 7956.87744140625\n",
      "Epoch 0, iter 200, loss: 7418.37060546875\n",
      "Epoch 0, iter 210, loss: 7593.09326171875\n",
      "Epoch 0, iter 220, loss: 7115.81787109375\n",
      "Epoch 0, iter 230, loss: 7395.87255859375\n",
      "Epoch 0, iter 240, loss: 6532.2568359375\n",
      "Epoch 0, iter 250, loss: 6363.16357421875\n",
      "Epoch 0, iter 260, loss: 6528.52880859375\n",
      "Epoch 0, iter 270, loss: 5894.22900390625\n",
      "Epoch 0, iter 280, loss: 5302.07373046875\n",
      "Epoch 0, iter 290, loss: 5517.89111328125\n",
      "Epoch 0, iter 300, loss: 5328.13427734375\n",
      "Epoch 0, iter 310, loss: 4830.6318359375\n",
      "Epoch 0, iter 320, loss: 5071.5009765625\n",
      "Epoch 0, iter 330, loss: 4494.09619140625\n",
      "Epoch 0, iter 340, loss: 4446.90673828125\n",
      "Epoch 0, iter 350, loss: 4232.30615234375\n",
      "Epoch 0, iter 360, loss: 4028.25390625\n",
      "Epoch 0, iter 370, loss: 3771.265380859375\n",
      "Epoch 0, iter 380, loss: 3844.05908203125\n",
      "Epoch 0, iter 390, loss: 3361.306396484375\n",
      "Epoch 0, iter 400, loss: 3454.82666015625\n",
      "Epoch 0, iter 410, loss: 3136.46044921875\n",
      "Epoch 0, iter 420, loss: 2970.919189453125\n",
      "Epoch 0, iter 430, loss: 2923.357177734375\n",
      "Epoch 0, iter 440, loss: 2849.421630859375\n",
      "Epoch 0, iter 450, loss: 2342.68701171875\n",
      "Epoch 0, iter 460, loss: 2368.342041015625\n",
      "Epoch 0, iter 470, loss: 2262.104736328125\n",
      "Epoch 0, iter 480, loss: 2260.025146484375\n",
      "Epoch 0, iter 490, loss: 1915.513916015625\n",
      "Epoch 0, iter 500, loss: 1795.640869140625\n",
      "Epoch 0, iter 510, loss: 1848.891845703125\n",
      "Epoch 0, iter 520, loss: 1936.8455810546875\n"
     ]
    }
   ],
   "source": [
    "epochs=20\n",
    "for epoch in range(epochs):\n",
    "    for i, (imgs,kps) in enumerate(train_loader):\n",
    "        imgs = imgs.to(device)\n",
    "        kps = kps.to(device)\n",
    "\n",
    "        optimizer.zero_grad()\n",
    "        outputs = model(imgs)\n",
    "        loss = criterion(outputs, kps)\n",
    "        loss.backward()\n",
    "        optimizer.step()\n",
    "\n",
    "        if i % 10 == 0:\n",
    "            print(f\"Epoch {epoch}, iter {i}, loss: {loss.item()}\")"
   ]
  },
  {
   "cell_type": "code",
   "execution_count": null,
   "metadata": {},
   "outputs": [],
   "source": [
    "torch.save(model.stat_dict(), \"models/keypoints_model.pth\")"
   ]
  },
  {
   "cell_type": "code",
   "execution_count": null,
   "metadata": {},
   "outputs": [],
   "source": []
  }
 ],
 "metadata": {
  "kernelspec": {
   "display_name": ".tennis-yolo",
   "language": "python",
   "name": "python3"
  },
  "language_info": {
   "codemirror_mode": {
    "name": "ipython",
    "version": 3
   },
   "file_extension": ".py",
   "mimetype": "text/x-python",
   "name": "python",
   "nbconvert_exporter": "python",
   "pygments_lexer": "ipython3",
   "version": "3.9.7"
  }
 },
 "nbformat": 4,
 "nbformat_minor": 2
}
